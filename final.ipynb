{
 "cells": [
  {
   "cell_type": "code",
   "execution_count": 54,
   "metadata": {},
   "outputs": [],
   "source": [
    "import pandas as pd\n",
    "import numpy as np\n",
    "import time\n",
    "import ast"
   ]
  },
  {
   "cell_type": "code",
   "execution_count": 55,
   "metadata": {},
   "outputs": [
    {
     "name": "stdout",
     "output_type": "stream",
     "text": [
      "<class 'pandas.core.frame.DataFrame'>\n",
      "RangeIndex: 6823 entries, 0 to 6822\n",
      "Data columns (total 11 columns):\n",
      " #   Column             Non-Null Count  Dtype  \n",
      "---  ------             --------------  -----  \n",
      " 0   url                6823 non-null   object \n",
      " 1   product_name       6823 non-null   object \n",
      " 2   reviewer_name      6823 non-null   object \n",
      " 3   review_title       6822 non-null   object \n",
      " 4   review_text        6814 non-null   object \n",
      " 5   review_rating      6823 non-null   float64\n",
      " 6   verified_purchase  6823 non-null   bool   \n",
      " 7   review_date        6823 non-null   object \n",
      " 8   helpful_count      1953 non-null   object \n",
      " 9   uniq_id            6823 non-null   object \n",
      " 10  scraped_at         6823 non-null   object \n",
      "dtypes: bool(1), float64(1), object(9)\n",
      "memory usage: 539.8+ KB\n"
     ]
    }
   ],
   "source": [
    "start = time.time()\n",
    "df = pd.read_csv('./amazon_uk_shoes_products_dataset_2021_12.csv')\n",
    "df.info()"
   ]
  },
  {
   "cell_type": "code",
   "execution_count": 56,
   "metadata": {},
   "outputs": [
    {
     "data": {
      "text/plain": [
       "url                     0\n",
       "product_name            0\n",
       "reviewer_name           0\n",
       "review_title            1\n",
       "review_text             9\n",
       "review_rating           0\n",
       "verified_purchase       0\n",
       "review_date             0\n",
       "helpful_count        4870\n",
       "uniq_id                 0\n",
       "scraped_at              0\n",
       "dtype: int64"
      ]
     },
     "execution_count": 56,
     "metadata": {},
     "output_type": "execute_result"
    }
   ],
   "source": [
    "df.isnull()\n",
    "df.isnull().sum()#결측치 확인"
   ]
  },
  {
   "cell_type": "code",
   "execution_count": null,
   "metadata": {},
   "outputs": [],
   "source": [
    "df.drop([\"helpful_count\"], axis = 1, inplace=True) #결측치가 너무 많은 열이라서 제거\n",
    "df = df.dropna(subset=['review_title', 'review_text'])#review_title, review_text의 결측치 제거\n",
    "df.isnull().sum()#모든 결측치가 사라짐을 확인"
   ]
  },
  {
   "cell_type": "code",
   "execution_count": null,
   "metadata": {},
   "outputs": [],
   "source": [
    "df.drop_duplicates() # 중복 데이터 제거\n",
    "df"
   ]
  },
  {
   "cell_type": "code",
   "execution_count": 85,
   "metadata": {},
   "outputs": [
    {
     "name": "stderr",
     "output_type": "stream",
     "text": [
      "[nltk_data] Downloading package punkt to /home/codespace/nltk_data...\n",
      "[nltk_data]   Unzipping tokenizers/punkt.zip.\n"
     ]
    },
    {
     "name": "stdout",
     "output_type": "stream",
     "text": [
      "tokens\n"
     ]
    }
   ],
   "source": [
    "from nltk.tokenize import word_tokenize #리뷰글들의 불용어를 확인하기 위해 review_text를 토큰화 하였습니다.\n",
    "nltk.download('punkt')\n",
    "tokens = sent_tokenize(\"review_text\")\n",
    "print(\"tokens\")"
   ]
  },
  {
   "cell_type": "code",
   "execution_count": 86,
   "metadata": {},
   "outputs": [
    {
     "name": "stdout",
     "output_type": "stream",
     "text": [
      "Requirement already satisfied: nltk in /usr/local/python/3.10.13/lib/python3.10/site-packages (3.8.1)\n",
      "Requirement already satisfied: click in /usr/local/python/3.10.13/lib/python3.10/site-packages (from nltk) (8.1.7)\n",
      "Requirement already satisfied: joblib in /home/codespace/.local/lib/python3.10/site-packages (from nltk) (1.4.2)\n",
      "Requirement already satisfied: regex>=2021.8.3 in /usr/local/python/3.10.13/lib/python3.10/site-packages (from nltk) (2024.5.15)\n",
      "Requirement already satisfied: tqdm in /usr/local/python/3.10.13/lib/python3.10/site-packages (from nltk) (4.66.4)\n",
      "Note: you may need to restart the kernel to use updated packages.\n"
     ]
    },
    {
     "name": "stderr",
     "output_type": "stream",
     "text": [
      "[nltk_data] Downloading package vader_lexicon to\n",
      "[nltk_data]     /home/codespace/nltk_data...\n",
      "[nltk_data]   Package vader_lexicon is already up-to-date!\n",
      "[nltk_data] Downloading package stopwords to\n",
      "[nltk_data]     /home/codespace/nltk_data...\n",
      "[nltk_data]   Package stopwords is already up-to-date!\n"
     ]
    }
   ],
   "source": [
    "%pip install nltk\n",
    "import nltk as nltk\n",
    "from nltk.corpus import stopwords\n",
    "from nltk.sentiment.vader import SentimentIntensityAnalyzer # nltk의 VADER 감정 분석기를 가져옮\n",
    "nltk.download('vader_lexicon')\n",
    "nltk.download('stopwords')\n",
    "start = time.time()\n",
    "cache = set(stopwords.words(\"english\"))\n",
    "def remove_stopwords(review):\n",
    "    text = \" \".join([word for word in review.split() if word not in cache])\n",
    "    return text\n",
    "df.review_text = df.review_text.apply(remove_stopwords)"
   ]
  },
  {
   "cell_type": "code",
   "execution_count": 76,
   "metadata": {},
   "outputs": [],
   "source": [
    "vader_sentiment = SentimentIntensityAnalyzer() # VADER 감정 분석기를 초기화\n",
    "def calc_sentiment(review):    \n",
    "    if review == \"No Negative\" or review == \"No Positive\": # 리뷰가 \"No Negative\" 또는 \"No Positive\"인 경우\n",
    "        return 0\n",
    "    return vader_sentiment.polarity_scores(review)[\"compound\"]  # 리뷰가 텍스트인 경우 VADER 감정 분석기를 사용하여 감정 점수(컴파운드 스코어)를 계산하고 반환"
   ]
  },
  {
   "cell_type": "code",
   "execution_count": 87,
   "metadata": {},
   "outputs": [
    {
     "name": "stdout",
     "output_type": "stream",
     "text": [
      "Calculating sentiment columns for review_text\n",
      "Calculating sentiment took 1.89 seconds\n"
     ]
    }
   ],
   "source": [
    "print(\"Calculating sentiment columns for review_text\")\n",
    "start = time.time()\n",
    "df[\"review_text_Sentiment\"] = df.review_text.apply(calc_sentiment)\n",
    "end = time.time()\n",
    "print(\"Calculating sentiment took \" + str(round(end - start, 2)) + \" seconds\")"
   ]
  },
  {
   "cell_type": "code",
   "execution_count": 88,
   "metadata": {},
   "outputs": [
    {
     "name": "stdout",
     "output_type": "stream",
     "text": [
      "      review_text_Sentiment\n",
      "2103                -0.9955\n",
      "5328                -0.9930\n",
      "5773                -0.9917\n",
      "5772                -0.9917\n",
      "2080                -0.9914\n",
      "...                     ...\n",
      "5427                 0.9949\n",
      "5197                 0.9956\n",
      "1335                 0.9963\n",
      "3298                 0.9964\n",
      "5041                 0.9971\n",
      "\n",
      "[6813 rows x 1 columns]\n"
     ]
    }
   ],
   "source": [
    "df = df.sort_values(by=[\"review_text_Sentiment\"], ascending=True)\n",
    "print(df[[\"review_text_Sentiment\"]])"
   ]
  },
  {
   "cell_type": "code",
   "execution_count": null,
   "metadata": {},
   "outputs": [],
   "source": []
  }
 ],
 "metadata": {
  "kernelspec": {
   "display_name": "Python 3",
   "language": "python",
   "name": "python3"
  },
  "language_info": {
   "codemirror_mode": {
    "name": "ipython",
    "version": 3
   },
   "file_extension": ".py",
   "mimetype": "text/x-python",
   "name": "python",
   "nbconvert_exporter": "python",
   "pygments_lexer": "ipython3",
   "version": "3.10.13"
  }
 },
 "nbformat": 4,
 "nbformat_minor": 2
}
